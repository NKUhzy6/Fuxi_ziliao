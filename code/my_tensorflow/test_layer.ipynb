{
 "cells": [
  {
   "cell_type": "code",
   "execution_count": 11,
   "metadata": {},
   "outputs": [
    {
     "name": "stdout",
     "output_type": "stream",
     "text": [
      "1\n"
     ]
    }
   ],
   "source": [
    "import numpy as np\n",
    "import tensorflow as tf\n",
    "from src.utils import get_wb, foo\n",
    "from src.utils import print_params_dict, print_params_number\n",
    "\n",
    "from src.layers import dense, multi_dense, linear_dense, Dense\n",
    "from src.layers import highway_dense, multi_highway_dense\n",
    "from src.layers import conv2d\n",
    "from src.layers import highway_conv2d\n",
    "\n",
    "foo()"
   ]
  },
  {
   "cell_type": "markdown",
   "metadata": {},
   "source": [
    "## get_wb"
   ]
  },
  {
   "cell_type": "code",
   "execution_count": 9,
   "metadata": {},
   "outputs": [
    {
     "name": "stdout",
     "output_type": "stream",
     "text": [
      "(8, 16)\n",
      "[-1. -1. -1. -1. -1. -1. -1. -1. -1. -1. -1. -1. -1. -1. -1. -1.]\n",
      "W:0 \t{'number': 32, 'shape': [2, 16]}\n",
      "b:0 \t{'number': 16, 'shape': [16]}\n"
     ]
    }
   ],
   "source": [
    "# get_wb\n",
    "tf.reset_default_graph()\n",
    "\n",
    "# Input shape: [8, 2]\n",
    "x = tf.constant(np.arange(16, dtype=np.float32).reshape([8,2]))\n",
    "# Output shape: [8, 16]\n",
    "w, b = get_wb([2, 16], b_initializer=tf.initializers.constant(-1.0))\n",
    "\n",
    "with tf.Session() as sess:\n",
    "    tf.global_variables_initializer().run()\n",
    "    o_val = tf.matmul(x, w) + b\n",
    "    b_val = tf.identity(b).eval()\n",
    "    \n",
    "print(o_val.shape)\n",
    "print(b_val)\n",
    "print_params_dict()"
   ]
  },
  {
   "cell_type": "markdown",
   "metadata": {},
   "source": [
    "## Dense"
   ]
  },
  {
   "cell_type": "code",
   "execution_count": 37,
   "metadata": {},
   "outputs": [
    {
     "name": "stdout",
     "output_type": "stream",
     "text": [
      "(8, 16)\n",
      "D/W:0 \t{'number': 32, 'shape': [2, 16]}\n",
      "D/b:0 \t{'number': 16, 'shape': [16]}\n"
     ]
    }
   ],
   "source": [
    "# Dense\n",
    "tf.reset_default_graph()\n",
    "\n",
    "# Input shape: [8, 2]\n",
    "x = tf.constant(np.arange(16, dtype=np.float32).reshape([8,2]))\n",
    "# Output shape: [8, 16]\n",
    "o = dense(x, 16, name=\"D\")\n",
    "\n",
    "with tf.Session() as sess:\n",
    "    tf.global_variables_initializer().run()\n",
    "    o_val = o.eval()\n",
    "    \n",
    "print(o_val.shape)\n",
    "print_params_dict()"
   ]
  },
  {
   "cell_type": "markdown",
   "metadata": {},
   "source": [
    "## Dense reuse"
   ]
  },
  {
   "cell_type": "code",
   "execution_count": 10,
   "metadata": {},
   "outputs": [
    {
     "name": "stdout",
     "output_type": "stream",
     "text": [
      "True\n",
      "D/W:0 \t{'number': 32, 'shape': [2, 16]}\n",
      "D/b:0 \t{'number': 16, 'shape': [16]}\n"
     ]
    }
   ],
   "source": [
    "# Dense reuse\n",
    "tf.reset_default_graph()\n",
    "\n",
    "# Input shape: [8, 2]\n",
    "x = tf.constant(np.arange(16, dtype=np.float32).reshape([8,2]))\n",
    "# Output shape: [8, 16]\n",
    "o = dense(x, 16, name=\"D\")\n",
    "o2 = dense(x, 16, name=\"D\", reuse=True)\n",
    "\n",
    "with tf.Session() as sess:\n",
    "    tf.global_variables_initializer().run()\n",
    "    o_val = o.eval()\n",
    "    o2_val = o2.eval()\n",
    "    \n",
    "print((o_val == o2_val).all())\n",
    "print_params_dict()"
   ]
  },
  {
   "cell_type": "markdown",
   "metadata": {},
   "source": [
    "## Dense class"
   ]
  },
  {
   "cell_type": "code",
   "execution_count": 30,
   "metadata": {},
   "outputs": [
    {
     "name": "stdout",
     "output_type": "stream",
     "text": [
      "True\n",
      "DD/W:0 \t{'number': 32, 'shape': [2, 16]}\n",
      "DD/b:0 \t{'number': 16, 'shape': [16]}\n"
     ]
    }
   ],
   "source": [
    "# Dense class\n",
    "tf.reset_default_graph()\n",
    "\n",
    "# Input shape: [8, 2]\n",
    "x = tf.constant(np.arange(16, dtype=np.float32).reshape([8,2]))\n",
    "# Output shape: [8, 16]\n",
    "dense_reuse = Dense(16, name=\"DD\")\n",
    "o = dense_reuse(x)\n",
    "o2 = dense_reuse(x)\n",
    "\n",
    "with tf.Session() as sess:\n",
    "    tf.global_variables_initializer().run()\n",
    "    o_val = o.eval()\n",
    "    o2_val = o2.eval()\n",
    "    \n",
    "print((o_val == o2_val).all())\n",
    "print_params_dict()"
   ]
  },
  {
   "cell_type": "markdown",
   "metadata": {},
   "source": [
    "## Multi Dense"
   ]
  },
  {
   "cell_type": "code",
   "execution_count": 31,
   "metadata": {},
   "outputs": [
    {
     "name": "stdout",
     "output_type": "stream",
     "text": [
      "(8, 5)\n",
      "D-0/W:0 \t{'number': 6, 'shape': [2, 3]}\n",
      "D-0/b:0 \t{'number': 3, 'shape': [3]}\n",
      "D-1/W:0 \t{'number': 12, 'shape': [3, 4]}\n",
      "D-1/b:0 \t{'number': 4, 'shape': [4]}\n",
      "D-2/W:0 \t{'number': 20, 'shape': [4, 5]}\n",
      "D-2/b:0 \t{'number': 5, 'shape': [5]}\n"
     ]
    }
   ],
   "source": [
    "# Multi Dense\n",
    "tf.reset_default_graph()\n",
    "\n",
    "# Input shape: [8, 2]\n",
    "x = tf.constant(np.arange(16, dtype=np.float32).reshape([8,2]))\n",
    "# Output shape: [8, 5]\n",
    "o = multi_dense(x, [3, 4, 5], name=\"D\")\n",
    "\n",
    "with tf.Session() as sess:\n",
    "    tf.global_variables_initializer().run()\n",
    "    o_val = o.eval()\n",
    "    \n",
    "print(o_val.shape)\n",
    "print_params_dict()"
   ]
  },
  {
   "cell_type": "markdown",
   "metadata": {},
   "source": [
    "## Highway Dense"
   ]
  },
  {
   "cell_type": "code",
   "execution_count": 19,
   "metadata": {},
   "outputs": [
    {
     "name": "stdout",
     "output_type": "stream",
     "text": [
      "(8, 2)\n",
      "H/W:0 \t{'number': 4, 'shape': [2, 2]}\n",
      "H/b:0 \t{'number': 2, 'shape': [2]}\n",
      "H/transform/W:0 \t{'number': 4, 'shape': [2, 2]}\n",
      "H/transform/b:0 \t{'number': 2, 'shape': [2]}\n"
     ]
    }
   ],
   "source": [
    "# Highway Dense\n",
    "tf.reset_default_graph()\n",
    "\n",
    "# Input shape: [8, 2]\n",
    "x = tf.constant(np.arange(16, dtype=np.float32).reshape([8,2]))\n",
    "# Output shape: [8, 2]\n",
    "o = highway_dense(x, name=\"H\")\n",
    "\n",
    "with tf.Session() as sess:\n",
    "    tf.global_variables_initializer().run()\n",
    "    o_val = o.eval()\n",
    "    \n",
    "print(o_val.shape)\n",
    "print_params_dict()"
   ]
  },
  {
   "cell_type": "markdown",
   "metadata": {},
   "source": [
    "## Multi Highway Dense"
   ]
  },
  {
   "cell_type": "code",
   "execution_count": 7,
   "metadata": {},
   "outputs": [
    {
     "name": "stdout",
     "output_type": "stream",
     "text": [
      "(8, 2)\n",
      "H1-0/W:0 \t{'number': 4, 'shape': [2, 2]}\n",
      "H1-0/b:0 \t{'number': 2, 'shape': [2]}\n",
      "H1-0/transform/W:0 \t{'number': 4, 'shape': [2, 2]}\n",
      "H1-0/transform/b:0 \t{'number': 2, 'shape': [2]}\n",
      "H1-1/W:0 \t{'number': 4, 'shape': [2, 2]}\n",
      "H1-1/b:0 \t{'number': 2, 'shape': [2]}\n",
      "H1-1/transform/W:0 \t{'number': 4, 'shape': [2, 2]}\n",
      "H1-1/transform/b:0 \t{'number': 2, 'shape': [2]}\n",
      "H1-2/W:0 \t{'number': 4, 'shape': [2, 2]}\n",
      "H1-2/b:0 \t{'number': 2, 'shape': [2]}\n",
      "H1-2/transform/W:0 \t{'number': 4, 'shape': [2, 2]}\n",
      "H1-2/transform/b:0 \t{'number': 2, 'shape': [2]}\n"
     ]
    }
   ],
   "source": [
    "# Multi Highway Dense\n",
    "tf.reset_default_graph()\n",
    "\n",
    "# Input shape: [8, 2]\n",
    "x = tf.constant(np.arange(16, dtype=np.float32).reshape([8,2]))\n",
    "# Output shape: [8, 2]\n",
    "o = multi_highway_dense(x, 3, name=\"H1\")\n",
    "\n",
    "with tf.Session() as sess:\n",
    "    tf.global_variables_initializer().run()\n",
    "    o_val = o.eval()\n",
    "    \n",
    "print(o_val.shape)\n",
    "print_params_dict()"
   ]
  },
  {
   "cell_type": "markdown",
   "metadata": {},
   "source": [
    "## Conv2d"
   ]
  },
  {
   "cell_type": "code",
   "execution_count": 8,
   "metadata": {},
   "outputs": [
    {
     "name": "stdout",
     "output_type": "stream",
     "text": [
      "(4, 20, 20, 16)\n",
      "conv2d/W:0 \t{'number': 144, 'shape': [3, 3, 1, 16]}\n",
      "conv2d/b:0 \t{'number': 16, 'shape': [16]}\n"
     ]
    }
   ],
   "source": [
    "# Conv2d\n",
    "tf.reset_default_graph()\n",
    "\n",
    "# Input shape: [4, 20, 20, 1]\n",
    "x = tf.constant(np.arange(1600, dtype=np.float32).reshape([4, 20, 20, 1]))\n",
    "# Output shape: [4, 20, 20, 16]\n",
    "o = conv2d(x, 3, 16)\n",
    "\n",
    "with tf.Session() as sess:\n",
    "    tf.global_variables_initializer().run()\n",
    "    o_val = o.eval()\n",
    "    \n",
    "print(o_val.shape)\n",
    "print_params_dict()"
   ]
  },
  {
   "cell_type": "markdown",
   "metadata": {},
   "source": [
    "## Highway Conv2d"
   ]
  },
  {
   "cell_type": "code",
   "execution_count": 12,
   "metadata": {},
   "outputs": [
    {
     "name": "stdout",
     "output_type": "stream",
     "text": [
      "(4, 20, 20, 16)\n",
      "highway_conv2d/W:0 \t{'number': 144, 'shape': [3, 3, 1, 16]}\n",
      "highway_conv2d/b:0 \t{'number': 16, 'shape': [16]}\n",
      "highway_conv2d/transform/W:0 \t{'number': 144, 'shape': [3, 3, 1, 16]}\n",
      "highway_conv2d/transform/b:0 \t{'number': 16, 'shape': [16]}\n"
     ]
    }
   ],
   "source": [
    "# Highway Conv2d\n",
    "tf.reset_default_graph()\n",
    "\n",
    "# Input shape: [4, 20, 20, 1]\n",
    "x = tf.constant(np.arange(1600, dtype=np.float32).reshape([4, 20, 20, 1]))\n",
    "# Output shape: [4, 20, 20, 16]\n",
    "o = highway_conv2d(x, 3, 16)\n",
    "\n",
    "with tf.Session() as sess:\n",
    "    tf.global_variables_initializer().run()\n",
    "    o_val = o.eval()\n",
    "    \n",
    "print(o_val.shape)\n",
    "print_params_dict()"
   ]
  },
  {
   "cell_type": "markdown",
   "metadata": {},
   "source": [
    "## Multi Highway Conv2d"
   ]
  },
  {
   "cell_type": "code",
   "execution_count": 22,
   "metadata": {},
   "outputs": [
    {
     "name": "stdout",
     "output_type": "stream",
     "text": [
      "(4, 20, 20, 1)\n"
     ]
    },
    {
     "ename": "NameError",
     "evalue": "name 'print_params_dict' is not defined",
     "output_type": "error",
     "traceback": [
      "\u001b[1;31m---------------------------------------------------------------------------\u001b[0m",
      "\u001b[1;31mNameError\u001b[0m                                 Traceback (most recent call last)",
      "\u001b[1;32m<ipython-input-22-061e542a463c>\u001b[0m in \u001b[0;36m<module>\u001b[1;34m()\u001b[0m\n\u001b[0;32m     14\u001b[0m \u001b[1;33m\u001b[0m\u001b[0m\n\u001b[0;32m     15\u001b[0m \u001b[0mprint\u001b[0m\u001b[1;33m(\u001b[0m\u001b[0mo_val\u001b[0m\u001b[1;33m.\u001b[0m\u001b[0mshape\u001b[0m\u001b[1;33m)\u001b[0m\u001b[1;33m\u001b[0m\u001b[0m\n\u001b[1;32m---> 16\u001b[1;33m \u001b[0mprint_params_dict\u001b[0m\u001b[1;33m(\u001b[0m\u001b[1;33m)\u001b[0m\u001b[1;33m\u001b[0m\u001b[0m\n\u001b[0m\u001b[0;32m     17\u001b[0m \u001b[0mprint_params_number\u001b[0m\u001b[1;33m(\u001b[0m\u001b[1;33m)\u001b[0m\u001b[1;33m\u001b[0m\u001b[0m\n",
      "\u001b[1;31mNameError\u001b[0m: name 'print_params_dict' is not defined"
     ]
    }
   ],
   "source": [
    "# Multi Highway Conv2d\n",
    "tf.reset_default_graph()\n",
    "\n",
    "# Input shape: [4, 20, 20, 1]\n",
    "x = tf.constant(np.arange(1600, dtype=np.float32).reshape([-1, 20, 20, 1]))\n",
    "# Output shape: [4, 20, 20, 1]\n",
    "x = highway_conv2d(x, 3, name=\"HCnn1\")\n",
    "x = highway_conv2d(x, 4, name=\"HCnn2\")\n",
    "o = highway_conv2d(x, 5, name=\"HCnn3\")\n",
    "\n",
    "with tf.Session() as sess:\n",
    "    tf.global_variables_initializer().run()\n",
    "    o_val = o.eval()\n",
    "    \n",
    "print(o_val.shape)\n",
    "print_params_dict()\n",
    "print_params_number()"
   ]
  }
 ],
 "metadata": {
  "kernelspec": {
   "display_name": "Python 3",
   "language": "python",
   "name": "python3"
  },
  "language_info": {
   "codemirror_mode": {
    "name": "ipython",
    "version": 3
   },
   "file_extension": ".py",
   "mimetype": "text/x-python",
   "name": "python",
   "nbconvert_exporter": "python",
   "pygments_lexer": "ipython3",
   "version": "3.6.1"
  }
 },
 "nbformat": 4,
 "nbformat_minor": 2
}
